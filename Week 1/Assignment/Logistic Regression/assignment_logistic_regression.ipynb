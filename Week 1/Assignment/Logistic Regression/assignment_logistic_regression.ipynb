{
  "cells": [
    {
      "cell_type": "markdown",
      "metadata": {
        "id": "wNEUsAHHCGk2"
      },
      "source": [
        "##ASSIGNMENT\n",
        "#Dataset\n",
        "Assume you are a scientist who is trying to make a propellent and is trying many tests to make an efficient propellent .\n",
        "<br>\n",
        "You have performed two tests.\n",
        "<br>\n",
        "From the two tests you would like whether this propellent works efficiently or not.\n",
        "Build your own logistic regression model to decide .\n",
        "<br>\n",
        "Text with \"DO NOT EDIT THIS CODE\" needs to be only run do not edit it\n"
      ]
    },
    {
      "cell_type": "code",
      "execution_count": 16,
      "metadata": {
        "id": "xJm_XXJo4RDg"
      },
      "outputs": [],
      "source": [
        "#import libraries\n",
        "#write your code.\n",
        "import matplotlib.pyplot as plt\n",
        "import numpy as np\n",
        "import math\n",
        "\n",
        "\n",
        "\n"
      ]
    },
    {
      "cell_type": "code",
      "execution_count": 17,
      "metadata": {
        "id": "YtL0jW6m4e1A"
      },
      "outputs": [
        {
          "data": {
            "text/plain": [
              "array([[ 0.051267 ,  0.69956  ,  1.       ],\n",
              "       [-0.092742 ,  0.68494  ,  1.       ],\n",
              "       [-0.21371  ,  0.69225  ,  1.       ],\n",
              "       [-0.375    ,  0.50219  ,  1.       ],\n",
              "       [-0.51325  ,  0.46564  ,  1.       ],\n",
              "       [-0.52477  ,  0.2098   ,  1.       ],\n",
              "       [-0.39804  ,  0.034357 ,  1.       ],\n",
              "       [-0.30588  , -0.19225  ,  1.       ],\n",
              "       [ 0.016705 , -0.40424  ,  1.       ],\n",
              "       [ 0.13191  , -0.51389  ,  1.       ],\n",
              "       [ 0.38537  , -0.56506  ,  1.       ],\n",
              "       [ 0.52938  , -0.5212   ,  1.       ],\n",
              "       [ 0.63882  , -0.24342  ,  1.       ],\n",
              "       [ 0.73675  , -0.18494  ,  1.       ],\n",
              "       [ 0.54666  ,  0.48757  ,  1.       ],\n",
              "       [ 0.322    ,  0.5826   ,  1.       ],\n",
              "       [ 0.16647  ,  0.53874  ,  1.       ],\n",
              "       [-0.046659 ,  0.81652  ,  1.       ],\n",
              "       [-0.17339  ,  0.69956  ,  1.       ],\n",
              "       [-0.47869  ,  0.63377  ,  1.       ],\n",
              "       [-0.60541  ,  0.59722  ,  1.       ],\n",
              "       [-0.62846  ,  0.33406  ,  1.       ],\n",
              "       [-0.59389  ,  0.005117 ,  1.       ],\n",
              "       [-0.42108  , -0.27266  ,  1.       ],\n",
              "       [-0.11578  , -0.39693  ,  1.       ],\n",
              "       [ 0.20104  , -0.60161  ,  1.       ],\n",
              "       [ 0.46601  , -0.53582  ,  1.       ],\n",
              "       [ 0.67339  , -0.53582  ,  1.       ],\n",
              "       [-0.13882  ,  0.54605  ,  1.       ],\n",
              "       [-0.29435  ,  0.77997  ,  1.       ],\n",
              "       [-0.26555  ,  0.96272  ,  1.       ],\n",
              "       [-0.16187  ,  0.8019   ,  1.       ],\n",
              "       [-0.17339  ,  0.64839  ,  1.       ],\n",
              "       [-0.28283  ,  0.47295  ,  1.       ],\n",
              "       [-0.36348  ,  0.31213  ,  1.       ],\n",
              "       [-0.30012  ,  0.027047 ,  1.       ],\n",
              "       [-0.23675  , -0.21418  ,  1.       ],\n",
              "       [-0.06394  , -0.18494  ,  1.       ],\n",
              "       [ 0.062788 , -0.16301  ,  1.       ],\n",
              "       [ 0.22984  , -0.41155  ,  1.       ],\n",
              "       [ 0.2932   , -0.2288   ,  1.       ],\n",
              "       [ 0.48329  , -0.18494  ,  1.       ],\n",
              "       [ 0.64459  , -0.14108  ,  1.       ],\n",
              "       [ 0.46025  ,  0.012427 ,  1.       ],\n",
              "       [ 0.6273   ,  0.15863  ,  1.       ],\n",
              "       [ 0.57546  ,  0.26827  ,  1.       ],\n",
              "       [ 0.72523  ,  0.44371  ,  1.       ],\n",
              "       [ 0.22408  ,  0.52412  ,  1.       ],\n",
              "       [ 0.44297  ,  0.67032  ,  1.       ],\n",
              "       [ 0.322    ,  0.69225  ,  1.       ],\n",
              "       [ 0.13767  ,  0.57529  ,  1.       ],\n",
              "       [-0.0063364,  0.39985  ,  1.       ],\n",
              "       [-0.092742 ,  0.55336  ,  1.       ],\n",
              "       [-0.20795  ,  0.35599  ,  1.       ],\n",
              "       [-0.20795  ,  0.17325  ,  1.       ],\n",
              "       [-0.43836  ,  0.21711  ,  1.       ],\n",
              "       [-0.21947  , -0.016813 ,  1.       ],\n",
              "       [-0.13882  , -0.27266  ,  1.       ],\n",
              "       [ 0.18376  ,  0.93348  ,  0.       ],\n",
              "       [ 0.22408  ,  0.77997  ,  0.       ],\n",
              "       [ 0.29896  ,  0.61915  ,  0.       ],\n",
              "       [ 0.50634  ,  0.75804  ,  0.       ],\n",
              "       [ 0.61578  ,  0.7288   ,  0.       ],\n",
              "       [ 0.60426  ,  0.59722  ,  0.       ],\n",
              "       [ 0.76555  ,  0.50219  ,  0.       ],\n",
              "       [ 0.92684  ,  0.3633   ,  0.       ],\n",
              "       [ 0.82316  ,  0.27558  ,  0.       ],\n",
              "       [ 0.96141  ,  0.085526 ,  0.       ],\n",
              "       [ 0.93836  ,  0.012427 ,  0.       ],\n",
              "       [ 0.86348  , -0.082602 ,  0.       ],\n",
              "       [ 0.89804  , -0.20687  ,  0.       ],\n",
              "       [ 0.85196  , -0.36769  ,  0.       ],\n",
              "       [ 0.82892  , -0.5212   ,  0.       ],\n",
              "       [ 0.79435  , -0.55775  ,  0.       ],\n",
              "       [ 0.59274  , -0.7405   ,  0.       ],\n",
              "       [ 0.51786  , -0.5943   ,  0.       ],\n",
              "       [ 0.46601  , -0.41886  ,  0.       ],\n",
              "       [ 0.35081  , -0.57968  ,  0.       ],\n",
              "       [ 0.28744  , -0.76974  ,  0.       ],\n",
              "       [ 0.085829 , -0.75512  ,  0.       ],\n",
              "       [ 0.14919  , -0.57968  ,  0.       ],\n",
              "       [-0.13306  , -0.4481   ,  0.       ],\n",
              "       [-0.40956  , -0.41155  ,  0.       ],\n",
              "       [-0.39228  , -0.25804  ,  0.       ],\n",
              "       [-0.74366  , -0.25804  ,  0.       ],\n",
              "       [-0.69758  ,  0.041667 ,  0.       ],\n",
              "       [-0.75518  ,  0.2902   ,  0.       ],\n",
              "       [-0.69758  ,  0.68494  ,  0.       ],\n",
              "       [-0.4038   ,  0.70687  ,  0.       ],\n",
              "       [-0.38076  ,  0.91886  ,  0.       ],\n",
              "       [-0.50749  ,  0.90424  ,  0.       ],\n",
              "       [-0.54781  ,  0.70687  ,  0.       ],\n",
              "       [ 0.10311  ,  0.77997  ,  0.       ],\n",
              "       [ 0.057028 ,  0.91886  ,  0.       ],\n",
              "       [-0.10426  ,  0.99196  ,  0.       ],\n",
              "       [-0.081221 ,  1.1089   ,  0.       ],\n",
              "       [ 0.28744  ,  1.087    ,  0.       ],\n",
              "       [ 0.39689  ,  0.82383  ,  0.       ],\n",
              "       [ 0.63882  ,  0.88962  ,  0.       ],\n",
              "       [ 0.82316  ,  0.66301  ,  0.       ],\n",
              "       [ 0.67339  ,  0.64108  ,  0.       ],\n",
              "       [ 1.0709   ,  0.10015  ,  0.       ],\n",
              "       [-0.046659 , -0.57968  ,  0.       ],\n",
              "       [-0.23675  , -0.63816  ,  0.       ],\n",
              "       [-0.15035  , -0.36769  ,  0.       ],\n",
              "       [-0.49021  , -0.3019   ,  0.       ],\n",
              "       [-0.46717  , -0.13377  ,  0.       ],\n",
              "       [-0.28859  , -0.060673 ,  0.       ],\n",
              "       [-0.61118  , -0.067982 ,  0.       ],\n",
              "       [-0.66302  , -0.21418  ,  0.       ],\n",
              "       [-0.59965  , -0.41886  ,  0.       ],\n",
              "       [-0.72638  , -0.082602 ,  0.       ],\n",
              "       [-0.83007  ,  0.31213  ,  0.       ],\n",
              "       [-0.72062  ,  0.53874  ,  0.       ],\n",
              "       [-0.59389  ,  0.49488  ,  0.       ],\n",
              "       [-0.48445  ,  0.99927  ,  0.       ],\n",
              "       [-0.0063364,  0.99927  ,  0.       ],\n",
              "       [ 0.63265  , -0.030612 ,  0.       ]])"
            ]
          },
          "execution_count": 17,
          "metadata": {},
          "output_type": "execute_result"
        }
      ],
      "source": [
        "#load data\n",
        "\n",
        "#write your code\n",
        "data = np.loadtxt(\"data.txt\", delimiter=',')\n",
        "data\n",
        "\n"
      ]
    },
    {
      "cell_type": "code",
      "execution_count": 18,
      "metadata": {
        "id": "Bk2qYHyk4mNm"
      },
      "outputs": [],
      "source": [
        "#plot data to visualise\n",
        "X_train=data[:,0:2]\n",
        "y_train=data[:,2]\n",
        "\n",
        "def plot_data(X,y,positive_label=\"y=1\", negative_label=\"y=0\"):\n",
        "    plt.scatter(X[:,0],X[:,1], c=y)\n",
        "#write your code\n",
        "\n",
        "\n"
      ]
    },
    {
      "cell_type": "code",
      "execution_count": 19,
      "metadata": {
        "id": "RzsMdrwv58tQ"
      },
      "outputs": [
        {
          "name": "stderr",
          "output_type": "stream",
          "text": [
            "No artists with labels found to put in legend.  Note that artists whose label start with an underscore are ignored when legend() is called with no argument.\n"
          ]
        },
        {
          "data": {
            "image/png": "[encoded data removed]",
            "text/plain": [
              "<Figure size 640x480 with 1 Axes>"
            ]
          },
          "metadata": {},
          "output_type": "display_data"
        }
      ],
      "source": [
        "#test\n",
        "plot_data(X_train, y_train[:])\n",
        "\n",
        "\n",
        "plt.xlabel('Test 2')\n",
        "plt.ylabel('Test 1')\n",
        "plt.legend(loc=\"upper right\")\n",
        "plt.show()\n"
      ]
    },
    {
      "cell_type": "code",
      "execution_count": 20,
      "metadata": {
        "id": "KhRBdaFi6nKo"
      },
      "outputs": [
        {
          "ename": "IndentationError",
          "evalue": "expected an indented block (3637083341.py, line 5)",
          "output_type": "error",
          "traceback": [
            "\u001b[1;36m  Cell \u001b[1;32mIn[20], line 5\u001b[1;36m\u001b[0m\n\u001b[1;33m    \u001b[0m\n\u001b[1;37m    ^\u001b[0m\n\u001b[1;31mIndentationError\u001b[0m\u001b[1;31m:\u001b[0m expected an indented block\n"
          ]
        }
      ],
      "source": [
        "#feature mapping\n",
        "def map_feature(X1,X2):\n",
        "#write your code\n",
        "\n",
        "\n"
      ]
    },
    {
      "cell_type": "code",
      "execution_count": null,
      "metadata": {
        "id": "PNS4kJfq6_m8"
      },
      "outputs": [],
      "source": [
        "print(\"Original shape of data:\", X_train.shape)\n",
        "\n",
        "mapped_X =  map_feature(X_train[:, 0], X_train[:, 1])\n",
        "print(\"Shape after feature mapping:\", mapped_X.shape)"
      ]
    },
    {
      "cell_type": "code",
      "execution_count": null,
      "metadata": {
        "id": "BqlxZOXoHh4z"
      },
      "outputs": [],
      "source": [
        "# @title DO NOT EDIT THIS CODE\n",
        "def sigmoid_test(target):\n",
        "    assert np.isclose(target(3.0), 0.9525741268224334), \"Failed for scalar input\"\n",
        "    assert np.allclose(target(np.array([2.5, 0])), [0.92414182, 0.5]), \"Failed for 1D array\"\n",
        "    assert np.allclose(target(np.array([[2.5, -2.5], [0, 1]])),\n",
        "                       [[0.92414182, 0.07585818], [0.5, 0.73105858]]), \"Failed for 2D array\"\n",
        "    print('\\033[92mTests passed!')"
      ]
    },
    {
      "cell_type": "code",
      "execution_count": null,
      "metadata": {
        "id": "wdgE-ay07C0P"
      },
      "outputs": [],
      "source": [
        "#sigmoid function\n",
        "def sigmoid(z):\n",
        "#write your code\n",
        "\n",
        "\n"
      ]
    },
    {
      "cell_type": "code",
      "execution_count": null,
      "metadata": {
        "id": "9XOlXXyxHnmB"
      },
      "outputs": [],
      "source": [
        "sigmoid_test(sigmoid)\n"
      ]
    },
    {
      "cell_type": "code",
      "execution_count": null,
      "metadata": {
        "id": "QLqfyxPrH-v-"
      },
      "outputs": [],
      "source": [
        "# @title DO NOT EDIT THIS CODE\n",
        "def compute_cost_test(target):\n",
        "    X = np.array([[0, 0, 0, 0]]).T\n",
        "    y = np.array([0, 0, 0, 0])\n",
        "    w = np.array([0])\n",
        "    b = 1\n",
        "    result = target(X, y, w, b)\n",
        "    if math.isinf(result):\n",
        "        raise ValueError(\"Did you get the sigmoid of z_wb?\")\n",
        "\n",
        "    np.random.seed(17)\n",
        "    X = np.random.randn(5, 2)\n",
        "    y = np.array([1, 0, 0, 1, 1])\n",
        "    w = np.random.randn(2)\n",
        "    b = 0\n",
        "    result = target(X, y, w, b)\n",
        "    assert np.isclose(result, 2.15510667), f\"Wrong output. Expected: {2.15510667} got: {result}\"\n",
        "\n",
        "    X = np.random.randn(4, 3)\n",
        "    y = np.array([1, 1, 0, 0])\n",
        "    w = np.random.randn(3)\n",
        "    b = 0\n",
        "\n",
        "    result = target(X, y, w, b)\n",
        "    assert np.isclose(result, 0.80709376), f\"Wrong output. Expected: {0.80709376} got: {result}\"\n",
        "\n",
        "    X = np.random.randn(4, 3)\n",
        "    y = np.array([1, 0,1, 0])\n",
        "    w = np.random.randn(3)\n",
        "    b = 3\n",
        "    result = target(X, y, w, b)\n",
        "    assert np.isclose(result, 0.4529660647), f\"Wrong output. Expected: {0.4529660647} got: {result}. Did you inizialized z_wb = b?\"\n",
        "\n",
        "    print('\\033[92mTests passed!')"
      ]
    },
    {
      "cell_type": "code",
      "execution_count": null,
      "metadata": {
        "id": "PRIqcpJ17MzH"
      },
      "outputs": [],
      "source": [
        "#computing cost\n",
        "def compute_cost(X,y,w,b,lambda_=1):\n",
        "#write your code\n",
        "\n",
        "\n",
        "\n",
        "\n",
        "  return total_cost"
      ]
    },
    {
      "cell_type": "code",
      "execution_count": null,
      "metadata": {
        "id": "MPOvLzL5H5-5"
      },
      "outputs": [],
      "source": [
        "test_w = np.array([0.2, 0.2])\n",
        "test_b = -24.\n",
        "cost = compute_cost(X_train, y_train, test_w, test_b)\n",
        "\n",
        "print('Cost at test w,b: {:.3f}'.format(cost))\n",
        "\n",
        "\n",
        "# test\n",
        "compute_cost_test(compute_cost)"
      ]
    },
    {
      "cell_type": "code",
      "execution_count": null,
      "metadata": {
        "id": "ULkWUBkO7ffh"
      },
      "outputs": [],
      "source": [
        "#compute regularised cost\n",
        "def compute_cost_reg(X, y, w, b, lambda_ = 1):\n",
        "#write your code\n",
        "\n",
        "\n",
        "\n",
        "\n",
        "  return total_cost"
      ]
    },
    {
      "cell_type": "code",
      "execution_count": null,
      "metadata": {
        "cellView": "form",
        "id": "OhFbPakDGKQj"
      },
      "outputs": [],
      "source": [
        "# @title DO NOT EDIT THIS CODE\n",
        "def compute_gradient_test(target):\n",
        "    np.random.seed(1)\n",
        "    X = np.random.randn(7, 3)\n",
        "    y = np.array([1, 0, 1, 0, 1, 1, 0])\n",
        "    test_w = np.array([1, 0.5, -0.35])\n",
        "    test_b = 1.7\n",
        "    dj_db, dj_dw  = target(X, y, test_w, test_b)\n",
        "\n",
        "    assert np.isclose(dj_db, 0.28936094), f\"Wrong value for dj_db. Expected: {0.28936094} got: {dj_db}\"\n",
        "    assert dj_dw.shape == test_w.shape, f\"Wrong shape for dj_dw. Expected: {test_w.shape} got: {dj_dw.shape}\"\n",
        "    assert np.allclose(dj_dw, [-0.11999166, 0.41498775, -0.71968405]), f\"Wrong values for dj_dw. Got: {dj_dw}\"\n",
        "\n",
        "    print('\\033[92mTests passed!')"
      ]
    },
    {
      "cell_type": "code",
      "execution_count": null,
      "metadata": {
        "id": "jO14e7OD7syR"
      },
      "outputs": [],
      "source": [
        "X_mapped = map_feature(X_train[:, 0], X_train[:, 1])\n",
        "np.random.seed(1)\n",
        "initial_w = np.random.rand(X_mapped.shape[1]) - 0.5\n",
        "initial_b = 0.5\n",
        "lambda_ = 0.5\n",
        "cost = compute_cost_reg(X_mapped, y_train, initial_w, initial_b, lambda_)\n",
        "\n",
        "print(\"Regularised cost :\", cost)\n",
        "\n",
        "#test\n",
        "compute_cost_reg_test(compute_cost_reg)"
      ]
    },
    {
      "cell_type": "code",
      "execution_count": null,
      "metadata": {
        "cellView": "form",
        "id": "plQBUPM2IRei"
      },
      "outputs": [],
      "source": [
        "# @title DO NOT EDIT THIS CODE\n",
        "def compute_gradient_test(target):\n",
        "    np.random.seed(1)\n",
        "    X = np.random.randn(7, 3)\n",
        "    y = np.array([1, 0, 1, 0, 1, 1, 0])\n",
        "    test_w = np.array([1, 0.5, -0.35])\n",
        "    test_b = 1.7\n",
        "    dj_db, dj_dw  = target(X, y, test_w, test_b)\n",
        "\n",
        "    assert np.isclose(dj_db, 0.28936094), f\"Wrong value for dj_db. Expected: {0.28936094} got: {dj_db}\"\n",
        "    assert dj_dw.shape == test_w.shape, f\"Wrong shape for dj_dw. Expected: {test_w.shape} got: {dj_dw.shape}\"\n",
        "    assert np.allclose(dj_dw, [-0.11999166, 0.41498775, -0.71968405]), f\"Wrong values for dj_dw. Got: {dj_dw}\"\n",
        "\n",
        "    print('\\033[92mTests passed!')"
      ]
    },
    {
      "cell_type": "code",
      "execution_count": null,
      "metadata": {
        "id": "v27SzhYX8-ug"
      },
      "outputs": [],
      "source": [
        "#compute gradient\n",
        "def compute_gradient(X, y, w, b, lambda_=None):\n",
        "#write your code\n",
        "\n",
        "\n",
        "\n",
        "  return dj_db,dj_dw"
      ]
    },
    {
      "cell_type": "code",
      "execution_count": null,
      "metadata": {
        "id": "WLmFL2yuIPUA"
      },
      "outputs": [],
      "source": [
        "test_w = np.array([ 0.2, -0.5])\n",
        "test_b = -24\n",
        "dj_db, dj_dw  = compute_gradient(X_train, y_train, test_w, test_b)\n",
        "\n",
        "print('dj_db at test_w:', dj_db)\n",
        "print('dj_dw at test_w:', dj_dw.tolist())\n",
        "\n",
        "# test\n",
        "compute_gradient_test(compute_gradient)"
      ]
    },
    {
      "cell_type": "code",
      "execution_count": null,
      "metadata": {
        "id": "TGfUArz09TMl"
      },
      "outputs": [],
      "source": [
        "#compute regularised gradient\n",
        "def compute_gradient_reg(X, y, w, b, lambda_=1):\n",
        "#write your code\n",
        "\n",
        "\n",
        "\n",
        "  return dj_db,dj_dw"
      ]
    },
    {
      "cell_type": "code",
      "execution_count": null,
      "metadata": {
        "cellView": "form",
        "id": "KNRCWIc8G2cp"
      },
      "outputs": [],
      "source": [
        "# @title DO NOT EDIT THIS CODE\n",
        "def compute_gradient_reg_test(target):\n",
        "    np.random.seed(1)\n",
        "    w = np.random.randn(5)\n",
        "    b = 0.2\n",
        "    X = np.random.randn(7, 5)\n",
        "    y = np.array([0, 1, 1, 0, 1, 1, 0])\n",
        "    lambda_ = 0.1\n",
        "    expected1 = (-0.1506447567869257, np.array([ 0.19530838, -0.00632206,  0.19687367,  0.15741161,  0.02791437]))\n",
        "    dj_db, dj_dw = target(X, y, w, b, lambda_)\n",
        "\n",
        "    assert np.isclose(dj_db, expected1[0]), f\"Wrong dj_db. Expected: {expected1[0]} got: {dj_db}\"\n",
        "    assert np.allclose(dj_dw, expected1[1]), f\"Wrong dj_dw. Expected: {expected1[1]} got: {dj_dw}\"\n",
        "\n",
        "\n",
        "    w = np.random.randn(7)\n",
        "    b = 0\n",
        "    X = np.random.randn(7, 7)\n",
        "    y = np.array([1, 0, 0, 0, 1, 1, 0])\n",
        "    lambda_ = 0\n",
        "    expected2 = (0.02660329857573818, np.array([ 0.23567643, -0.06921029, -0.19705212, -0.0002884 ,  0.06490588,\n",
        "        0.26948175,  0.10777992]))\n",
        "    dj_db, dj_dw = target(X, y, w, b, lambda_)\n",
        "    assert np.isclose(dj_db, expected2[0]), f\"Wrong dj_db. Expected: {expected2[0]} got: {dj_db}\"\n",
        "    assert np.allclose(dj_dw, expected2[1]), f\"Wrong dj_dw. Expected: {expected2[1]} got: {dj_dw}\"\n",
        "\n",
        "    print('\\033[92mTests passed!')"
      ]
    },
    {
      "cell_type": "code",
      "execution_count": null,
      "metadata": {
        "id": "3_of_BHJ9hEc"
      },
      "outputs": [],
      "source": [
        "X_mapped = map_feature(X_train[:, 0], X_train[:, 1])\n",
        "np.random.seed(1)\n",
        "initial_w  = np.random.rand(X_mapped.shape[1]) - 0.5\n",
        "initial_b = 0.5\n",
        "\n",
        "lambda_ = 0.5\n",
        "dj_db, dj_dw = compute_gradient_reg(X_mapped, y_train, initial_w, initial_b, lambda_)\n",
        "\n",
        "print(f\"dj_db: {dj_db}\" )\n",
        "#test\n",
        "compute_gradient_test(compute_gradient_reg)"
      ]
    },
    {
      "cell_type": "code",
      "execution_count": null,
      "metadata": {
        "id": "c5y3Nb9Z_SC4"
      },
      "outputs": [],
      "source": [
        "np.random.seed(1)\n",
        "initial_w = np.random.rand(X_mapped.shape[1])-0.5\n",
        "initial_b = 1.\n",
        "lambda_ = 0.01;\n",
        "iterations = 1000\n",
        "alpha = 0.01\n",
        "\n",
        "w,b, J_history,_ = gradient_descent(X_mapped, y_train, initial_w, initial_b,\n",
        "                                    compute_cost_reg, compute_gradient_reg,\n",
        "                                    alpha, iterations, lambda_)\n"
      ]
    },
    {
      "cell_type": "code",
      "execution_count": null,
      "metadata": {
        "id": "cqSOrJsTAf9p"
      },
      "outputs": [],
      "source": [
        "#plot decision boundary\n",
        "def plot_decision_boundary(w,b,X,y):\n",
        "#write your code\n",
        "\n",
        "\n",
        "\n",
        "\n"
      ]
    },
    {
      "cell_type": "code",
      "execution_count": null,
      "metadata": {
        "id": "etir_m_AAyYC"
      },
      "outputs": [],
      "source": [
        "plot_decision_boundary(w, b, X_mapped, y_train)"
      ]
    },
    {
      "cell_type": "code",
      "execution_count": null,
      "metadata": {
        "id": "MD2Dup4OA1ew"
      },
      "outputs": [],
      "source": [
        "#predict your training model\n",
        "def predict(X, w, b):\n",
        "  m,n=X.shape\n",
        "  p=np.zeros(m)\n",
        "  #write your code\n",
        "\n",
        "\n",
        "\n",
        "\n",
        "\n",
        "  return p"
      ]
    },
    {
      "cell_type": "code",
      "execution_count": null,
      "metadata": {
        "id": "TAhIPFIsBTjk"
      },
      "outputs": [],
      "source": [
        "p = predict(X_mapped, w, b)\n",
        "\n",
        "print('Accuracy of training model: %f'%(np.mean(p == y_train) * 100))"
      ]
    }
  ],
  "metadata": {
    "colab": {
      "provenance": []
    },
    "kernelspec": {
      "display_name": "Python 3",
      "name": "python3"
    },
    "language_info": {
      "codemirror_mode": {
        "name": "ipython",
        "version": 3
      },
      "file_extension": ".py",
      "mimetype": "text/x-python",
      "name": "python",
      "nbconvert_exporter": "python",
      "pygments_lexer": "ipython3",
      "version": "3.9.18"
    }
  },
  "nbformat": 4,
  "nbformat_minor": 0
}
