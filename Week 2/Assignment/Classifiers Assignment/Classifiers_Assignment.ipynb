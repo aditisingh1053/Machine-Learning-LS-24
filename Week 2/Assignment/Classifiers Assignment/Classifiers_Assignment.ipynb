{
  "cells": [
    {
      "cell_type": "markdown",
      "metadata": {
        "id": "HJM8Y9mh5o4H"
      },
      "source": [
        "#WELCOME\n",
        "In this Assignment, you'll use **Classifier** to predict the output. You are allowed to write/edit between the\n",
        "```# START CODE HERE``` & ```# END CODE HERE``` only.<br>\n",
        "Don't edit the test cells otherwise you'd be failed in the assignment.\n",
        "\n",
        "Upload the ```utils.zip``` file before running the 1st cell.\n",
        "[Demo](https://drive.google.com/file/d/1ebkQR6ikjGottmxa5KL83ZWdjTLvRxbm/view?usp=share_link)\n",
        "\n",
        "**BEST OF LUCK**"
      ]
    },
    {
      "cell_type": "markdown",
      "metadata": {
        "id": "cEl-4aFCkdsB"
      },
      "source": [
        "**RUN THIS CODE TO UNIZP THE REQUIRED FILES**"
      ]
    },
    {
      "cell_type": "code",
      "execution_count": 67,
      "metadata": {
        "id": "mCdV1dV8kawl"
      },
      "outputs": [
        {
          "name": "stderr",
          "output_type": "stream",
          "text": [
            "'unzip' is not recognized as an internal or external command,\n",
            "operable program or batch file.\n"
          ]
        }
      ],
      "source": [
        "!unzip -j /content/utils.zip -d."
      ]
    },
    {
      "cell_type": "markdown",
      "metadata": {
        "id": "VA4ZUSGu0Ox3"
      },
      "source": [
        "# Dataset Loading and Pre-Processing"
      ]
    },
    {
      "cell_type": "code",
      "execution_count": 68,
      "metadata": {
        "id": "_tP5JsNsqBsI"
      },
      "outputs": [],
      "source": [
        "import pandas as pd\n",
        "data = pd.read_csv(\"./utils\\content/weather_classification_data.csv\")"
      ]
    },
    {
      "cell_type": "markdown",
      "metadata": {
        "id": "MBHkfY1c0gO6"
      },
      "source": [
        "## Data Info\n",
        "```data.info``` gives info about data-types and number of null objects.  \n",
        "There are no null data, no need to remove any."
      ]
    },
    {
      "cell_type": "code",
      "execution_count": 69,
      "metadata": {
        "id": "O-myJ9LmqG8J"
      },
      "outputs": [
        {
          "name": "stdout",
          "output_type": "stream",
          "text": [
            "<class 'pandas.core.frame.DataFrame'>\n",
            "RangeIndex: 13200 entries, 0 to 13199\n",
            "Data columns (total 11 columns):\n",
            " #   Column                Non-Null Count  Dtype  \n",
            "---  ------                --------------  -----  \n",
            " 0   Temperature           13200 non-null  float64\n",
            " 1   Humidity              13200 non-null  int64  \n",
            " 2   Wind Speed            13200 non-null  float64\n",
            " 3   Precipitation (%)     13200 non-null  float64\n",
            " 4   Cloud Cover           13200 non-null  object \n",
            " 5   Atmospheric Pressure  13200 non-null  float64\n",
            " 6   UV Index              13200 non-null  int64  \n",
            " 7   Season                13200 non-null  object \n",
            " 8   Visibility (km)       13200 non-null  float64\n",
            " 9   Location              13200 non-null  object \n",
            " 10  Weather Type          13200 non-null  object \n",
            "dtypes: float64(5), int64(2), object(4)\n",
            "memory usage: 1.1+ MB\n"
          ]
        }
      ],
      "source": [
        "data.info()"
      ]
    },
    {
      "cell_type": "markdown",
      "metadata": {
        "id": "98kT9K8a1LF9"
      },
      "source": [
        "## Data Shuffling\n",
        "Data Shuffling removes any bias present and creates uniform distribution."
      ]
    },
    {
      "cell_type": "code",
      "execution_count": 70,
      "metadata": {
        "id": "DJ6bkcTbz8kP"
      },
      "outputs": [
        {
          "data": {
            "text/html": [
              "<div>\n",
              "<style scoped>\n",
              "    .dataframe tbody tr th:only-of-type {\n",
              "        vertical-align: middle;\n",
              "    }\n",
              "\n",
              "    .dataframe tbody tr th {\n",
              "        vertical-align: top;\n",
              "    }\n",
              "\n",
              "    .dataframe thead th {\n",
              "        text-align: right;\n",
              "    }\n",
              "</style>\n",
              "<table border=\"1\" class=\"dataframe\">\n",
              "  <thead>\n",
              "    <tr style=\"text-align: right;\">\n",
              "      <th></th>\n",
              "      <th>Temperature</th>\n",
              "      <th>Humidity</th>\n",
              "      <th>Wind Speed</th>\n",
              "      <th>Precipitation (%)</th>\n",
              "      <th>Cloud Cover</th>\n",
              "      <th>Atmospheric Pressure</th>\n",
              "      <th>UV Index</th>\n",
              "      <th>Season</th>\n",
              "      <th>Visibility (km)</th>\n",
              "      <th>Location</th>\n",
              "      <th>Weather Type</th>\n",
              "    </tr>\n",
              "  </thead>\n",
              "  <tbody>\n",
              "    <tr>\n",
              "      <th>11857</th>\n",
              "      <td>-19.0</td>\n",
              "      <td>72</td>\n",
              "      <td>1.0</td>\n",
              "      <td>50.0</td>\n",
              "      <td>cloudy</td>\n",
              "      <td>1162.98</td>\n",
              "      <td>12</td>\n",
              "      <td>Spring</td>\n",
              "      <td>18.5</td>\n",
              "      <td>mountain</td>\n",
              "      <td>Sunny</td>\n",
              "    </tr>\n",
              "    <tr>\n",
              "      <th>827</th>\n",
              "      <td>2.0</td>\n",
              "      <td>93</td>\n",
              "      <td>1.5</td>\n",
              "      <td>109.0</td>\n",
              "      <td>overcast</td>\n",
              "      <td>980.10</td>\n",
              "      <td>2</td>\n",
              "      <td>Winter</td>\n",
              "      <td>5.0</td>\n",
              "      <td>inland</td>\n",
              "      <td>Snowy</td>\n",
              "    </tr>\n",
              "    <tr>\n",
              "      <th>5060</th>\n",
              "      <td>-8.0</td>\n",
              "      <td>85</td>\n",
              "      <td>20.0</td>\n",
              "      <td>54.0</td>\n",
              "      <td>overcast</td>\n",
              "      <td>989.31</td>\n",
              "      <td>0</td>\n",
              "      <td>Winter</td>\n",
              "      <td>3.0</td>\n",
              "      <td>inland</td>\n",
              "      <td>Snowy</td>\n",
              "    </tr>\n",
              "    <tr>\n",
              "      <th>9969</th>\n",
              "      <td>28.0</td>\n",
              "      <td>79</td>\n",
              "      <td>9.5</td>\n",
              "      <td>23.0</td>\n",
              "      <td>overcast</td>\n",
              "      <td>1005.74</td>\n",
              "      <td>4</td>\n",
              "      <td>Winter</td>\n",
              "      <td>6.0</td>\n",
              "      <td>inland</td>\n",
              "      <td>Cloudy</td>\n",
              "    </tr>\n",
              "    <tr>\n",
              "      <th>11496</th>\n",
              "      <td>14.0</td>\n",
              "      <td>76</td>\n",
              "      <td>11.0</td>\n",
              "      <td>35.0</td>\n",
              "      <td>partly cloudy</td>\n",
              "      <td>1009.43</td>\n",
              "      <td>1</td>\n",
              "      <td>Autumn</td>\n",
              "      <td>6.0</td>\n",
              "      <td>coastal</td>\n",
              "      <td>Cloudy</td>\n",
              "    </tr>\n",
              "  </tbody>\n",
              "</table>\n",
              "</div>"
            ],
            "text/plain": [
              "       Temperature  Humidity  Wind Speed  Precipitation (%)    Cloud Cover  \\\n",
              "11857        -19.0        72         1.0               50.0         cloudy   \n",
              "827            2.0        93         1.5              109.0       overcast   \n",
              "5060          -8.0        85        20.0               54.0       overcast   \n",
              "9969          28.0        79         9.5               23.0       overcast   \n",
              "11496         14.0        76        11.0               35.0  partly cloudy   \n",
              "\n",
              "       Atmospheric Pressure  UV Index  Season  Visibility (km)  Location  \\\n",
              "11857               1162.98        12  Spring             18.5  mountain   \n",
              "827                  980.10         2  Winter              5.0    inland   \n",
              "5060                 989.31         0  Winter              3.0    inland   \n",
              "9969                1005.74         4  Winter              6.0    inland   \n",
              "11496               1009.43         1  Autumn              6.0   coastal   \n",
              "\n",
              "      Weather Type  \n",
              "11857        Sunny  \n",
              "827          Snowy  \n",
              "5060         Snowy  \n",
              "9969        Cloudy  \n",
              "11496       Cloudy  "
            ]
          },
          "execution_count": 70,
          "metadata": {},
          "output_type": "execute_result"
        }
      ],
      "source": [
        "from sklearn.utils import shuffle\n",
        "data = shuffle(data)\n",
        "data.head()"
      ]
    },
    {
      "cell_type": "markdown",
      "metadata": {
        "id": "7vKEzz9j19WQ"
      },
      "source": [
        "## Scaling and Labeling\n",
        "Machine can't understand string so all the object datatypes need to be LABELED with integers.<br><br>\n",
        "Why SCALING?<br>\n",
        "You might have noticed one column contains data with large values (of order 1000) whereas some column contain small value data (of order 10). As a result, large value columns get more power/importance than others. To remove this disparity we scaled them to same order/values."
      ]
    },
    {
      "cell_type": "markdown",
      "metadata": {
        "id": "TBg-lPJgzM4Y"
      },
      "source": [
        "**CODE**\n",
        "\n",
        "We need to find the columns with object datatypes.\n",
        "\n",
        "HINT: Use ```data.select_dtypes().columns.tolist()```<br>Reference: [w3schools](https://www.w3schools.com/python/pandas/ref_df_select_dtypes.asp#:~:text=The%20select_dtypes()%20method%20returns,the%20specified%20dtype(s).&text=Note%3A%20You%20must%20specify%20at,you%20will%20get%20an%20error.)"
      ]
    },
    {
      "cell_type": "code",
      "execution_count": 71,
      "metadata": {
        "id": "cIIKd53NpRKU"
      },
      "outputs": [
        {
          "name": "stdout",
          "output_type": "stream",
          "text": [
            "Object Columns: ['Cloud Cover', 'Season', 'Location', 'Weather Type']\n",
            "Non Object Columns: ['Temperature', 'Humidity', 'Wind Speed', 'Precipitation (%)', 'Atmospheric Pressure', 'UV Index', 'Visibility (km)']\n"
          ]
        }
      ],
      "source": [
        "# START CODE HERE\n",
        "object_columns = data.select_dtypes(include='object').columns.tolist()\n",
        "non_object_columns = data.select_dtypes(exclude='object').columns.tolist()\n",
        "# END CODE HERE\n",
        "print(f\"Object Columns: {object_columns}\\nNon Object Columns: {non_object_columns}\")"
      ]
    },
    {
      "cell_type": "markdown",
      "metadata": {
        "id": "KYlrJpdaAyKH"
      },
      "source": [
        "**TEST** (DON'T EDIT THIS CELL)"
      ]
    },
    {
      "cell_type": "code",
      "execution_count": 72,
      "metadata": {
        "id": "z4-pWLR5_fVf"
      },
      "outputs": [
        {
          "name": "stdout",
          "output_type": "stream",
          "text": [
            "\u001b[32mTest Passed\u001b[0m\n"
          ]
        }
      ],
      "source": [
        "# DON'T EDIT THIS CELL\n",
        "if (object_columns == ['Cloud Cover', 'Season', 'Location', 'Weather Type'] and non_object_columns == ['Temperature', 'Humidity', 'Wind Speed', 'Precipitation (%)', 'Atmospheric Pressure', 'UV Index', 'Visibility (km)']):\n",
        "  print(f\"\\033[32mTest Passed\\033[0m\")\n",
        "else:\n",
        "  print(f\"\\033[31mTest Failed\\033[0m\")"
      ]
    },
    {
      "cell_type": "markdown",
      "metadata": {
        "id": "reVHprk6z_nD"
      },
      "source": [
        "**CODE**\n",
        "\n",
        "We need to convert the object-type columns data into integral labels and scale the non-object-type columns data.\n",
        "\n",
        "HINT: Use ```ColumnTransformer()```<br>Reference: [scikit-learn](https://scikit-learn.org/stable/modules/generated/sklearn.compose.ColumnTransformer.html), [ChatGPT](https://chatgpt.com/c/7f3c1b02-5da0-4c34-bdb2-d999dccb9c2f)"
      ]
    },
    {
      "cell_type": "code",
      "execution_count": 73,
      "metadata": {
        "id": "kVT5qfqarRhF"
      },
      "outputs": [],
      "source": [
        "from sklearn.preprocessing import OrdinalEncoder, StandardScaler\n",
        "from sklearn.compose import ColumnTransformer\n",
        "\n",
        "# START CODE HERE\n",
        "\n",
        "column_transformer = ColumnTransformer([('object',OrdinalEncoder(),object_columns),('non-object',StandardScaler(),non_object_columns)])\n",
        "\n",
        "# Fit and transform the data\n",
        "data_scaled_labeled = column_transformer.fit_transform(data)\n",
        "\n",
        "# END CODE HERE\n",
        "\n",
        "all_columns = object_columns + non_object_columns\n",
        "\n",
        "# Create the new DataFrame\n",
        "data_scaled_labeled = pd.DataFrame(data_scaled_labeled, columns=all_columns)"
      ]
    },
    {
      "cell_type": "markdown",
      "metadata": {
        "id": "2AvKGjfJk3cY"
      },
      "source": [
        "**TEST** (DON'T EDIT THIS CELL)"
      ]
    },
    {
      "cell_type": "code",
      "execution_count": 74,
      "metadata": {
        "id": "7mT4H6o5D-mN"
      },
      "outputs": [
        {
          "name": "stdout",
          "output_type": "stream",
          "text": [
            "\u001b[32mTest Passed\u001b[0m\n"
          ]
        }
      ],
      "source": [
        "# DON'T EDIT THIS CELL\n",
        "\n",
        "data_scaled_labeled_check = pd.read_csv(\"./utils\\content/data_scaled_labeled_check.csv\")\n",
        "import numpy as np\n",
        "data_scaled_labeled_values = np.sort(data_scaled_labeled.values,axis=0)\n",
        "data_scaled_labeled_check_values = np.sort(data_scaled_labeled_check.values,axis=0)\n",
        "if np.allclose(data_scaled_labeled_values, data_scaled_labeled_check_values, equal_nan=True):\n",
        "  print(f\"\\033[32mTest Passed\\033[0m\")\n",
        "else:\n",
        "  print(f\"\\033[31mTest Failed\\033[0m\")"
      ]
    },
    {
      "cell_type": "markdown",
      "metadata": {
        "id": "wpIxEziM2EYr"
      },
      "source": [
        "## Data Splitting"
      ]
    },
    {
      "cell_type": "markdown",
      "metadata": {
        "id": "GKCxivFq1rjB"
      },
      "source": [
        "**CODE**\n",
        "\n",
        "We need to drop the Weather Type column from data_scaled_labeled to get the X and pick Weather Type column to get Y\n",
        "\n",
        "Use 90-10 split of data, i.e. 90% for training, 10% for testing"
      ]
    },
    {
      "cell_type": "code",
      "execution_count": 75,
      "metadata": {
        "id": "e-gDICS-mZYG"
      },
      "outputs": [],
      "source": [
        "X = data_scaled_labeled.drop('Weather Type',axis=1)\n",
        "y = data_scaled_labeled['Weather Type']\n",
        "\n",
        "from sklearn.model_selection import train_test_split\n",
        "\n",
        "X_train, X_test, y_train, y_test = train_test_split(X,y, train_size = 0.9, random_state = 10)"
      ]
    },
    {
      "cell_type": "markdown",
      "metadata": {
        "id": "WjR9MqGMpJ82"
      },
      "source": [
        "**TEST** (DON'T EDIT THIS CELL)"
      ]
    },
    {
      "cell_type": "code",
      "execution_count": 76,
      "metadata": {
        "id": "q5ZtYcaxKzFK"
      },
      "outputs": [
        {
          "name": "stdout",
          "output_type": "stream",
          "text": [
            "\u001b[32mTest Passed\u001b[0m\n",
            "\u001b[32mTest Passed\u001b[0m\n"
          ]
        }
      ],
      "source": [
        "# DON'T EDIT THIS CELL\n",
        "\n",
        "if (len(X_train)==11880 and len(X_test)==1320):\n",
        "  print(f\"\\033[32mTest Passed\\033[0m\")\n",
        "else:\n",
        "  print(f\"\\033[31mTest Failed\\033[0m\")\n",
        "\n",
        "if (len(y_train)==11880 and len(y_test)==1320):\n",
        "  print(f\"\\033[32mTest Passed\\033[0m\")\n",
        "else:\n",
        "  print(f\"\\033[31mTest Failed\\033[0m\")"
      ]
    },
    {
      "cell_type": "code",
      "execution_count": 77,
      "metadata": {
        "id": "uwYLbRwPzNBd"
      },
      "outputs": [
        {
          "data": {
            "text/html": [
              "<div>\n",
              "<style scoped>\n",
              "    .dataframe tbody tr th:only-of-type {\n",
              "        vertical-align: middle;\n",
              "    }\n",
              "\n",
              "    .dataframe tbody tr th {\n",
              "        vertical-align: top;\n",
              "    }\n",
              "\n",
              "    .dataframe thead th {\n",
              "        text-align: right;\n",
              "    }\n",
              "</style>\n",
              "<table border=\"1\" class=\"dataframe\">\n",
              "  <thead>\n",
              "    <tr style=\"text-align: right;\">\n",
              "      <th></th>\n",
              "      <th>Cloud Cover</th>\n",
              "      <th>Season</th>\n",
              "      <th>Location</th>\n",
              "      <th>Temperature</th>\n",
              "      <th>Humidity</th>\n",
              "      <th>Wind Speed</th>\n",
              "      <th>Precipitation (%)</th>\n",
              "      <th>Atmospheric Pressure</th>\n",
              "      <th>UV Index</th>\n",
              "      <th>Visibility (km)</th>\n",
              "    </tr>\n",
              "  </thead>\n",
              "  <tbody>\n",
              "    <tr>\n",
              "      <th>7017</th>\n",
              "      <td>2.0</td>\n",
              "      <td>2.0</td>\n",
              "      <td>0.0</td>\n",
              "      <td>0.050181</td>\n",
              "      <td>0.162883</td>\n",
              "      <td>-0.265211</td>\n",
              "      <td>-0.333207</td>\n",
              "      <td>0.293350</td>\n",
              "      <td>-0.260799</td>\n",
              "      <td>0.900845</td>\n",
              "    </tr>\n",
              "    <tr>\n",
              "      <th>12278</th>\n",
              "      <td>3.0</td>\n",
              "      <td>0.0</td>\n",
              "      <td>0.0</td>\n",
              "      <td>0.452811</td>\n",
              "      <td>0.410487</td>\n",
              "      <td>0.313790</td>\n",
              "      <td>0.887629</td>\n",
              "      <td>0.372118</td>\n",
              "      <td>1.813646</td>\n",
              "      <td>-0.285616</td>\n",
              "    </tr>\n",
              "    <tr>\n",
              "      <th>2859</th>\n",
              "      <td>2.0</td>\n",
              "      <td>2.0</td>\n",
              "      <td>0.0</td>\n",
              "      <td>0.510330</td>\n",
              "      <td>1.202822</td>\n",
              "      <td>1.109918</td>\n",
              "      <td>-0.020172</td>\n",
              "      <td>-0.364746</td>\n",
              "      <td>-0.260799</td>\n",
              "      <td>-1.175461</td>\n",
              "    </tr>\n",
              "    <tr>\n",
              "      <th>5495</th>\n",
              "      <td>0.0</td>\n",
              "      <td>3.0</td>\n",
              "      <td>1.0</td>\n",
              "      <td>2.235889</td>\n",
              "      <td>1.648510</td>\n",
              "      <td>0.965167</td>\n",
              "      <td>0.950236</td>\n",
              "      <td>0.451960</td>\n",
              "      <td>1.813646</td>\n",
              "      <td>0.455922</td>\n",
              "    </tr>\n",
              "    <tr>\n",
              "      <th>8469</th>\n",
              "      <td>2.0</td>\n",
              "      <td>3.0</td>\n",
              "      <td>1.0</td>\n",
              "      <td>-1.502823</td>\n",
              "      <td>1.202822</td>\n",
              "      <td>-0.120461</td>\n",
              "      <td>0.198953</td>\n",
              "      <td>-0.274150</td>\n",
              "      <td>-0.779410</td>\n",
              "      <td>-0.433923</td>\n",
              "    </tr>\n",
              "  </tbody>\n",
              "</table>\n",
              "</div>"
            ],
            "text/plain": [
              "       Cloud Cover  Season  Location  Temperature  Humidity  Wind Speed  \\\n",
              "7017           2.0     2.0       0.0     0.050181  0.162883   -0.265211   \n",
              "12278          3.0     0.0       0.0     0.452811  0.410487    0.313790   \n",
              "2859           2.0     2.0       0.0     0.510330  1.202822    1.109918   \n",
              "5495           0.0     3.0       1.0     2.235889  1.648510    0.965167   \n",
              "8469           2.0     3.0       1.0    -1.502823  1.202822   -0.120461   \n",
              "\n",
              "       Precipitation (%)  Atmospheric Pressure  UV Index  Visibility (km)  \n",
              "7017           -0.333207              0.293350 -0.260799         0.900845  \n",
              "12278           0.887629              0.372118  1.813646        -0.285616  \n",
              "2859           -0.020172             -0.364746 -0.260799        -1.175461  \n",
              "5495            0.950236              0.451960  1.813646         0.455922  \n",
              "8469            0.198953             -0.274150 -0.779410        -0.433923  "
            ]
          },
          "execution_count": 77,
          "metadata": {},
          "output_type": "execute_result"
        }
      ],
      "source": [
        "X_train.head()"
      ]
    },
    {
      "cell_type": "markdown",
      "metadata": {
        "id": "upeKo2UVs8WH"
      },
      "source": [
        "# Training and Testing\n",
        "Use any suitable classifier to fit the training data and check the accuracy on test data\n",
        "\n",
        "Don't forget to import that library"
      ]
    },
    {
      "cell_type": "markdown",
      "metadata": {
        "id": "amPA5lMY3adM"
      },
      "source": [
        "**CODE**\n",
        "\n",
        "ACCURACY should be more than 90%,\n",
        "\n",
        "1. Fit the model to X_train and y_train\n",
        "2. Find the model score on X_test and y_test"
      ]
    },
    {
      "cell_type": "code",
      "execution_count": 78,
      "metadata": {
        "id": "yei6MWgW0Si9"
      },
      "outputs": [
        {
          "name": "stdout",
          "output_type": "stream",
          "text": [
            "Accuracy: 92.12121212121212\n"
          ]
        }
      ],
      "source": [
        "# START CODE HERE\n",
        "\n",
        "from sklearn.ensemble import RandomForestClassifier\n",
        "from sklearn.tree import DecisionTreeClassifier\n",
        "from sklearn.neighbors import KNeighborsClassifier\n",
        "from sklearn.cluster import KMeans\n",
        "\n",
        "model =RandomForestClassifier(n_estimators=100, random_state=32)\n",
        "# model=DecisionTreeClassifier(random_state=42)\n",
        "# model=KNeighborsClassifier(n_neighbors=1)\n",
        "# model=KMeans(n_clusters=4, random_state=42)\n",
        "\n",
        "model.fit(X_train,y_train)\n",
        "score = model.score(X_test,y_test)\n",
        "\n",
        "# END CODE HERE\n",
        "\n",
        "print(\"Accuracy:\", score*100)"
      ]
    },
    {
      "cell_type": "markdown",
      "metadata": {
        "id": "gv0LHa5FuDSU"
      },
      "source": [
        "**TEST** (DON'T EDIT THIS CELL)"
      ]
    },
    {
      "cell_type": "code",
      "execution_count": 79,
      "metadata": {
        "id": "WYopYL5MuAam"
      },
      "outputs": [
        {
          "name": "stdout",
          "output_type": "stream",
          "text": [
            "\u001b[32mTest Passed\u001b[0m\n"
          ]
        }
      ],
      "source": [
        "# DON'T EDIT THIS CELL\n",
        "\n",
        "if (score>0.90):\n",
        "  print(f\"\\033[32mTest Passed\\033[0m\")\n",
        "else:\n",
        "  print(f\"\\033[31mTest Failed\\033[0m\")"
      ]
    },
    {
      "cell_type": "markdown",
      "metadata": {
        "id": "pOnUEVEsuQlA"
      },
      "source": [
        "# Predicting Output (Here, Weather Type) (Optional)"
      ]
    },
    {
      "cell_type": "code",
      "execution_count": 80,
      "metadata": {
        "id": "oAvmODuFwDNl"
      },
      "outputs": [
        {
          "data": {
            "text/html": [
              "<div>\n",
              "<style scoped>\n",
              "    .dataframe tbody tr th:only-of-type {\n",
              "        vertical-align: middle;\n",
              "    }\n",
              "\n",
              "    .dataframe tbody tr th {\n",
              "        vertical-align: top;\n",
              "    }\n",
              "\n",
              "    .dataframe thead th {\n",
              "        text-align: right;\n",
              "    }\n",
              "</style>\n",
              "<table border=\"1\" class=\"dataframe\">\n",
              "  <thead>\n",
              "    <tr style=\"text-align: right;\">\n",
              "      <th></th>\n",
              "      <th>Cloud Cover</th>\n",
              "      <th>Season</th>\n",
              "      <th>Location</th>\n",
              "      <th>Temperature</th>\n",
              "      <th>Humidity</th>\n",
              "      <th>Wind Speed</th>\n",
              "      <th>Precipitation (%)</th>\n",
              "      <th>Atmospheric Pressure</th>\n",
              "      <th>UV Index</th>\n",
              "      <th>Visibility (km)</th>\n",
              "    </tr>\n",
              "  </thead>\n",
              "  <tbody>\n",
              "    <tr>\n",
              "      <th>11923</th>\n",
              "      <td>2.0</td>\n",
              "      <td>2.0</td>\n",
              "      <td>0.0</td>\n",
              "      <td>-0.064857</td>\n",
              "      <td>-0.183764</td>\n",
              "      <td>-0.048086</td>\n",
              "      <td>0.918933</td>\n",
              "      <td>0.296039</td>\n",
              "      <td>-0.779410</td>\n",
              "      <td>-0.878846</td>\n",
              "    </tr>\n",
              "    <tr>\n",
              "      <th>2331</th>\n",
              "      <td>3.0</td>\n",
              "      <td>3.0</td>\n",
              "      <td>1.0</td>\n",
              "      <td>0.107699</td>\n",
              "      <td>0.360966</td>\n",
              "      <td>0.241415</td>\n",
              "      <td>-0.740152</td>\n",
              "      <td>-0.066882</td>\n",
              "      <td>-0.260799</td>\n",
              "      <td>0.159307</td>\n",
              "    </tr>\n",
              "    <tr>\n",
              "      <th>217</th>\n",
              "      <td>0.0</td>\n",
              "      <td>3.0</td>\n",
              "      <td>1.0</td>\n",
              "      <td>0.395293</td>\n",
              "      <td>-0.778015</td>\n",
              "      <td>-1.278464</td>\n",
              "      <td>-1.303614</td>\n",
              "      <td>0.402496</td>\n",
              "      <td>0.517118</td>\n",
              "      <td>1.197460</td>\n",
              "    </tr>\n",
              "    <tr>\n",
              "      <th>1760</th>\n",
              "      <td>3.0</td>\n",
              "      <td>3.0</td>\n",
              "      <td>1.0</td>\n",
              "      <td>0.050181</td>\n",
              "      <td>-1.570350</td>\n",
              "      <td>-0.120461</td>\n",
              "      <td>-1.460132</td>\n",
              "      <td>0.309211</td>\n",
              "      <td>1.295035</td>\n",
              "      <td>0.752538</td>\n",
              "    </tr>\n",
              "    <tr>\n",
              "      <th>3963</th>\n",
              "      <td>3.0</td>\n",
              "      <td>1.0</td>\n",
              "      <td>1.0</td>\n",
              "      <td>0.452811</td>\n",
              "      <td>-1.174182</td>\n",
              "      <td>-0.265211</td>\n",
              "      <td>-1.397525</td>\n",
              "      <td>0.415937</td>\n",
              "      <td>0.257813</td>\n",
              "      <td>0.455922</td>\n",
              "    </tr>\n",
              "  </tbody>\n",
              "</table>\n",
              "</div>"
            ],
            "text/plain": [
              "       Cloud Cover  Season  Location  Temperature  Humidity  Wind Speed  \\\n",
              "11923          2.0     2.0       0.0    -0.064857 -0.183764   -0.048086   \n",
              "2331           3.0     3.0       1.0     0.107699  0.360966    0.241415   \n",
              "217            0.0     3.0       1.0     0.395293 -0.778015   -1.278464   \n",
              "1760           3.0     3.0       1.0     0.050181 -1.570350   -0.120461   \n",
              "3963           3.0     1.0       1.0     0.452811 -1.174182   -0.265211   \n",
              "\n",
              "       Precipitation (%)  Atmospheric Pressure  UV Index  Visibility (km)  \n",
              "11923           0.918933              0.296039 -0.779410        -0.878846  \n",
              "2331           -0.740152             -0.066882 -0.260799         0.159307  \n",
              "217            -1.303614              0.402496  0.517118         1.197460  \n",
              "1760           -1.460132              0.309211  1.295035         0.752538  \n",
              "3963           -1.397525              0.415937  0.257813         0.455922  "
            ]
          },
          "execution_count": 80,
          "metadata": {},
          "output_type": "execute_result"
        }
      ],
      "source": [
        "input = X_test.head()\n",
        "input"
      ]
    },
    {
      "cell_type": "code",
      "execution_count": 81,
      "metadata": {
        "id": "jZAkEyqUONIc"
      },
      "outputs": [
        {
          "data": {
            "text/plain": [
              "array([1., 0., 3., 3., 3.])"
            ]
          },
          "execution_count": 81,
          "metadata": {},
          "output_type": "execute_result"
        }
      ],
      "source": [
        "y = model.predict(input)\n",
        "y"
      ]
    },
    {
      "cell_type": "markdown",
      "metadata": {
        "id": "zuNM1UNPyY7p"
      },
      "source": [
        "Here, the outputs are in numbers. We can perform inverse column transfer for getiing the string values.\n"
      ]
    }
  ],
  "metadata": {
    "colab": {
      "provenance": []
    },
    "kernelspec": {
      "display_name": "Python 3",
      "name": "python3"
    },
    "language_info": {
      "codemirror_mode": {
        "name": "ipython",
        "version": 3
      },
      "file_extension": ".py",
      "mimetype": "text/x-python",
      "name": "python",
      "nbconvert_exporter": "python",
      "pygments_lexer": "ipython3",
      "version": "3.9.18"
    }
  },
  "nbformat": 4,
  "nbformat_minor": 0
}
